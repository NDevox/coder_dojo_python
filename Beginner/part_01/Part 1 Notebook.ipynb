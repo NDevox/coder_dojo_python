{
 "cells": [
  {
   "cell_type": "markdown",
   "metadata": {},
   "source": [
    "# Beginner Python - Part 1\n",
    "In this one we are going to import a library and use it's functions.\n"
   ]
  },
  {
   "cell_type": "markdown",
   "metadata": {},
   "source": [
    "### What is importing?\n",
    "Python has a lot of functions you can use, but it likes to hide them so programs don't get too big.\n",
    "\n",
    "It does this by putting them in modules which you can import to use the functions inside them.\n",
    "\n",
    "### A list of useful modules you may want to use are:\n",
    "\n",
    "random - for functions that produce random things.\n",
    "math - for functions which do math.\n",
    "os - for functions that work with your computer.\n",
    "turtle - for functions that draw on your screen.\n",
    "### To import a library you can either:\n",
    "\n",
    "Use just the import keyword like import random. This means to use the functions in the module you have to always add random. in front. E.g. random.randint(0, 10).\n",
    "\n",
    "Import a specific function from the module like from random import randint. This means you can use the function directly like randint(0, 10).\n",
    "\n",
    "Import all the functions from the module in one go like from random import * (* means everything). You can use the functions the same as above, but you might have a lot of things you don't need and it may cause bugs."
   ]
  },
  {
   "cell_type": "code",
   "execution_count": 1,
   "metadata": {},
   "outputs": [],
   "source": [
    "# Import Python Library \n",
    "from turtle import *\n"
   ]
  },
  {
   "cell_type": "code",
   "execution_count": 2,
   "metadata": {},
   "outputs": [],
   "source": [
    "shape('turtle')\n",
    "\n",
    "forward(50)\n",
    "\n",
    "left(90)"
   ]
  },
  {
   "cell_type": "code",
   "execution_count": null,
   "metadata": {},
   "outputs": [],
   "source": []
  }
 ],
 "metadata": {
  "kernelspec": {
   "display_name": "Python 3",
   "language": "python",
   "name": "python3"
  },
  "language_info": {
   "codemirror_mode": {
    "name": "ipython",
    "version": 3
   },
   "file_extension": ".py",
   "mimetype": "text/x-python",
   "name": "python",
   "nbconvert_exporter": "python",
   "pygments_lexer": "ipython3",
   "version": "3.7.2"
  }
 },
 "nbformat": 4,
 "nbformat_minor": 2
}
