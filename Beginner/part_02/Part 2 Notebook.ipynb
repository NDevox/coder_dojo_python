{
 "cells": [
  {
   "cell_type": "markdown",
   "metadata": {},
   "source": [
    "# What is input?"
   ]
  },
  {
   "cell_type": "markdown",
   "metadata": {},
   "source": [
    "Welcome to your third python lesson!\n",
    "We're learning a new and very useful function in this lesson:\n",
    "input\n",
    "\n",
    "input is a special function which allows you to ask the user for input. You can ask people questions!\n",
    "\n",
    "It takes one argument which is the question you want to ask.\n",
    "Always end the question with a space after the question mark otherwise it looks a bit weird."
   ]
  },
  {
   "cell_type": "code",
   "execution_count": null,
   "metadata": {},
   "outputs": [],
   "source": [
    "#In an interactive prompt, put in the following:\n",
    "input('What is your name? ')"
   ]
  },
  {
   "cell_type": "markdown",
   "metadata": {},
   "source": [
    "You'll see the question printed below and it will let you type next to it. When you hit enter it will print what you wrote on the screen.\n",
    "\n",
    "In the same way we catch output from other functions we can capture the output from input. "
   ]
  },
  {
   "cell_type": "code",
   "execution_count": null,
   "metadata": {},
   "outputs": [],
   "source": [
    "# We can capture the output from input. Like so:\n",
    "name = input('What is your name? ')\n",
    "# Now if you print name it will tell you what the user wrote."
   ]
  },
  {
   "cell_type": "code",
   "execution_count": null,
   "metadata": {},
   "outputs": [],
   "source": [
    "# Now if you print name it will tell you what the user wrote.\n",
    "print(name)"
   ]
  },
  {
   "cell_type": "markdown",
   "metadata": {},
   "source": [
    "## The Exercise\n",
    "Now let's do the task.\n",
    "\n",
    "In this lesson we are going to ask a user for their age.\n",
    "\n",
    "Once we have their age we're going to tell them (roughly) how old they are in months."
   ]
  },
  {
   "cell_type": "code",
   "execution_count": null,
   "metadata": {},
   "outputs": [],
   "source": [
    "# Step 1 - get their name\n",
    "name = input('What is your name? ')\n",
    "\n",
    "print('Hi ' + name + ' I am Python!')"
   ]
  },
  {
   "cell_type": "code",
   "execution_count": null,
   "metadata": {},
   "outputs": [],
   "source": [
    "# Step 2 - get their age\n",
    "# This bit is a bit complicated, we're passing the output of a function directly into another function. \n",
    "# It may sound weird but it's no different than putting a variable in as an argument.\n",
    "years = int(input('How old are you ' + name + '? '))"
   ]
  },
  {
   "cell_type": "markdown",
   "metadata": {},
   "source": [
    "We want the persons name to be a number so we convert the output of input immediately into a number and put this in the variable years.\n",
    "\n",
    "For the final step we multiply years by 12 to get the number of months and print the result.\n",
    "Remember we need to convert the number back into a string to add the text together."
   ]
  },
  {
   "cell_type": "code",
   "execution_count": null,
   "metadata": {},
   "outputs": [],
   "source": [
    "# Step 3 - telling the user their age in months\n",
    "months = years * 12\n",
    "\n",
    "print(name + ' did you know that you are ' + str(months) + ' months old?')"
   ]
  }
 ],
 "metadata": {
  "kernelspec": {
   "display_name": "Python 3",
   "language": "python",
   "name": "python3"
  },
  "language_info": {
   "codemirror_mode": {
    "name": "ipython",
    "version": 3
   },
   "file_extension": ".py",
   "mimetype": "text/x-python",
   "name": "python",
   "nbconvert_exporter": "python",
   "pygments_lexer": "ipython3",
   "version": "3.7.2"
  }
 },
 "nbformat": 4,
 "nbformat_minor": 2
}
