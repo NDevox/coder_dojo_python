{
 "cells": [
  {
   "cell_type": "markdown",
   "metadata": {},
   "source": [
    "# What is control flow?\n",
    "Control flow is how we control what a program can and can't do.\n",
    "\n",
    "The 2 main ways to do this are:\n",
    "\n",
    "If statements - We use these to check if something is true and to do something if it is (or isn't).\n",
    "Loops - these allow us to do the same thing over and over again as many times as we need.\n"
   ]
  },
  {
   "cell_type": "markdown",
   "metadata": {},
   "source": [
    "## If statements\n",
    "If statements are a special way to do something only if something else is \"true\".\n",
    "\n",
    "We write them like this:"
   ]
  },
  {
   "cell_type": "code",
   "execution_count": null,
   "metadata": {},
   "outputs": [],
   "source": [
    "name = input('What is your name? ')\n",
    "years = int(input('How old are you ' + name  + '? '))\n",
    "\n",
    "if years > 10:\n",
    "    print('You are older than 10.')\n",
    "else:\n",
    "    print('You are 10 or younger.')"
   ]
  },
  {
   "cell_type": "markdown",
   "metadata": {},
   "source": [
    "The if years > 0: checks to see if years is greater than 0. If it is python will run everything indented after that line.\n",
    "\n",
    "If it isn't true python will execute everything indented after the else: line.\n",
    "\n",
    "You can also use elif statements to check extra possibilities like so:"
   ]
  },
  {
   "cell_type": "code",
   "execution_count": null,
   "metadata": {},
   "outputs": [],
   "source": [
    "if years > 10:\n",
    "    print('You are older than 10.')\n",
    "elif years < 5:\n",
    "    print('You are younger than 5.')\n",
    "else:\n",
    "    print('You are between 10 and 5.')"
   ]
  },
  {
   "cell_type": "markdown",
   "metadata": {},
   "source": [
    "# The Exercise\n",
    "We are going to largely copy what we did before aside from the last task:"
   ]
  },
  {
   "cell_type": "code",
   "execution_count": null,
   "metadata": {},
   "outputs": [],
   "source": [
    "# Step 1 - getting the age\n",
    "name = input('What is your name? ')\n",
    "\n",
    "print('Hi ' + name + ' I am Python!')\n",
    "\n",
    "years = int(input('How old are you ' + name + '? '))\n",
    "\n",
    "months = years * 12"
   ]
  },
  {
   "cell_type": "code",
   "execution_count": null,
   "metadata": {},
   "outputs": [],
   "source": [
    "# Step 2 - making the if statement\n",
    "# Now all we hae to do is write a statement to check how old the user is and react accordingly.\n",
    "\n",
    "if years > 18:\n",
    "    print(name + ' did you know that you are ' + str(months) + ' months old? That is pretty old!')\n",
    "elif years < 4:\n",
    "    print(name + ' did you know that you are ' + str(months) + ' months old? That makes you a baby!')\n",
    "else:\n",
    "    print(name + ' did you know that you are ' + str(months) + ' months old?')"
   ]
  }
 ],
 "metadata": {
  "kernelspec": {
   "display_name": "Python 3",
   "language": "python",
   "name": "python3"
  },
  "language_info": {
   "codemirror_mode": {
    "name": "ipython",
    "version": 3
   },
   "file_extension": ".py",
   "mimetype": "text/x-python",
   "name": "python",
   "nbconvert_exporter": "python",
   "pygments_lexer": "ipython3",
   "version": "3.7.2"
  }
 },
 "nbformat": 4,
 "nbformat_minor": 2
}
